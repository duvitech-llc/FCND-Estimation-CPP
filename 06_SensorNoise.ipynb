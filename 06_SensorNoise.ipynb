{
 "cells": [
  {
   "cell_type": "code",
   "execution_count": 6,
   "metadata": {},
   "outputs": [
    {
     "name": "stdout",
     "output_type": "stream",
     "text": [
      "-1.86665 1.981731\n",
      "-0.004111329395413482 0.49677320563152644\n"
     ]
    }
   ],
   "source": [
    "from statistics import mean, stdev\n",
    "f = open(\"config/log/Graph2.txt\", 'r')\n",
    "\n",
    "# Remove the first line \n",
    "f.readline()\n",
    "\n",
    "# Create the list of values \n",
    "values = []\n",
    "for line in f.readlines():\n",
    "  # After splitting the line, take the last element, remove extra spaces and cast it to int.\n",
    "  value = float(line.split(',')[-1].strip())\n",
    "  # Add the value to the salaries list.\n",
    "  values.append(value)\n",
    "# min and max return the minimum and the maximum value of the list.\n",
    "print(min(values), max(values))   \n",
    "print(mean(values), stdev(values))\n",
    "f.close()"
   ]
  },
  {
   "cell_type": "code",
   "execution_count": null,
   "metadata": {},
   "outputs": [],
   "source": []
  },
  {
   "cell_type": "code",
   "execution_count": null,
   "metadata": {},
   "outputs": [],
   "source": []
  }
 ],
 "metadata": {
  "kernelspec": {
   "display_name": "Python 3",
   "language": "python",
   "name": "python3"
  },
  "language_info": {
   "codemirror_mode": {
    "name": "ipython",
    "version": 3
   },
   "file_extension": ".py",
   "mimetype": "text/x-python",
   "name": "python",
   "nbconvert_exporter": "python",
   "pygments_lexer": "ipython3",
   "version": "3.7.5"
  }
 },
 "nbformat": 4,
 "nbformat_minor": 2
}
